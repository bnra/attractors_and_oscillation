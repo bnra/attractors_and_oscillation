{
 "cells": [
  {
   "cell_type": "markdown",
   "metadata": {},
   "source": [
    "# Oscillation and Poisson Input"
   ]
  },
  {
   "cell_type": "markdown",
   "metadata": {},
   "source": [
    "## setup"
   ]
  },
  {
   "cell_type": "code",
   "execution_count": null,
   "metadata": {},
   "outputs": [],
   "source": [
    "import os"
   ]
  },
  {
   "cell_type": "code",
   "execution_count": null,
   "metadata": {},
   "outputs": [],
   "source": [
    "base_path = os.path.join(\"..\",\"data\")"
   ]
  },
  {
   "cell_type": "markdown",
   "metadata": {},
   "source": [
    "## utilities "
   ]
  },
  {
   "cell_type": "code",
   "execution_count": null,
   "metadata": {},
   "outputs": [],
   "source": [
    "import sys\n",
    "sys.path.insert(0, \"..\")\n",
    "import numpy as np\n",
    "\n",
    "from persistence import FileMap"
   ]
  },
  {
   "cell_type": "code",
   "execution_count": null,
   "metadata": {},
   "outputs": [],
   "source": [
    "\n",
    "from brian2 import ms, mV, kHz\n",
    "\n",
    "from BrianExperiment import BrianExperiment\n",
    "from network import NeuronPopulation, PoissonDeviceGroup, Connector\n",
    "from distribution import draw_uniform\n",
    "from differential_equations.neuron_equations import (\n",
    "    eqs_P,\n",
    "    eqs_I,\n",
    "    PreEq_AMPA,\n",
    "    PreEq_AMPA_pois,\n",
    "    PreEq_GABA,\n",
    ")\n",
    "from differential_equations.neuron_parameters import delay_AMPA, delay_GABA, eL_p, eL_i\n",
    "\n",
    "def run_exp(path:str, sim_time:float, rate_poisson_e:float, rate_poisson_i:float, report: bool=True, progress_bar: bool=True):\n",
    "    \"\"\"\n",
    "    run a brian experiment with an E I network\n",
    "\n",
    "    :param rate_poisson_e: rate of the homogeneous poisson input to the E population\n",
    "    :param rate_poisson_i: rate of the homogeneous poisson input to the I population\n",
    "    \"\"\"\n",
    "\n",
    "    with BrianExperiment(\n",
    "        report_progress=report,\n",
    "        progress_bar=progress_bar,\n",
    "        persist=True,\n",
    "        path=path,\n",
    "        # object_path=\"/run_x/data\",\n",
    "        # neuron_eqs=[\"eqs_P\", \"PreEq_AMPA\"],\n",
    "        # neuron_params=[\"delay_AMPA\"],\n",
    "    ) as exp:\n",
    "\n",
    "        # EI network\n",
    "\n",
    "        # populations\n",
    "        E = NeuronPopulation(\n",
    "            4000, eqs_P, threshold=\"v_s>-30*mV\", refractory=1.3 * ms, method=\"rk4\"\n",
    "        )\n",
    "\n",
    "        I = NeuronPopulation(\n",
    "            1000, eqs_I, threshold=\"v>-30*mV\", refractory=1.3 * ms, method=\"rk4\"\n",
    "        )\n",
    "\n",
    "        # synapses\n",
    "        connect = Connector(synapse_type=\"static\")\n",
    "\n",
    "        S_E_E = connect(\n",
    "            E,\n",
    "            E,\n",
    "            E.ids,\n",
    "            E.ids,\n",
    "            connect=(\"bernoulli\", {\"p\": 0.01}),\n",
    "            on_pre=PreEq_AMPA,\n",
    "            delay=delay_AMPA,\n",
    "        )\n",
    "        # S_E_E.monitor(S_E_E.synapses, [\"x_AMPA\"])\n",
    "        S_E_I = connect(\n",
    "            E,\n",
    "            I,\n",
    "            E.ids,\n",
    "            I.ids,\n",
    "            connect=(\"bernoulli\", {\"p\": 0.1}),\n",
    "            on_pre=PreEq_AMPA,\n",
    "            delay=delay_AMPA,\n",
    "        )\n",
    "        S_I_E = connect(\n",
    "            I,\n",
    "            E,\n",
    "            I.ids,\n",
    "            E.ids,\n",
    "            connect=(\"bernoulli\", {\"p\": 0.1}),\n",
    "            on_pre=PreEq_GABA,\n",
    "            delay=delay_GABA,\n",
    "        )\n",
    "        S_I_I = connect(\n",
    "            I,\n",
    "            I,\n",
    "            I.ids,\n",
    "            I.ids,\n",
    "            connect=(\"bernoulli\", {\"p\": 0.1}),\n",
    "            on_pre=PreEq_GABA,\n",
    "            delay=delay_GABA,\n",
    "        )\n",
    "\n",
    "        # initialize vars and monitor\n",
    "\n",
    "        E.set_pop_var(\n",
    "            variable=\"v_s\",\n",
    "            value=draw_uniform(a=eL_p / mV - 5.0, b=eL_p / mV + 5.0, size=E.size) * mV,\n",
    "        )\n",
    "        E.set_pop_var(\n",
    "            variable=\"v_d\",\n",
    "            value=draw_uniform(a=eL_p / mV - 5.0, b=eL_p / mV + 5.0, size=E.size) * mV,\n",
    "        )\n",
    "\n",
    "        E.monitor(E.ids, [\"v_s\"])\n",
    "        E.monitor_spike(E.ids)\n",
    "        E.monitor_rate()\n",
    "\n",
    "        I.set_pop_var(\n",
    "            variable=\"v\",\n",
    "            value=draw_uniform(a=eL_i / mV - 5.0, b=eL_i / mV + 5.0, size=I.size) * mV,\n",
    "        )\n",
    "\n",
    "        I.monitor(I.ids, [\"v\"])\n",
    "        I.monitor_spike(I.ids)\n",
    "        I.monitor_rate()\n",
    "\n",
    "        # external inputs\n",
    "\n",
    "        # poisson device groups\n",
    "        PE = PoissonDeviceGroup(size=E.size, rate=rate_poisson_e* kHz)\n",
    "        #PE.monitor_spike(PE.ids)\n",
    "\n",
    "        PI = PoissonDeviceGroup(size=I.size, rate=rate_poisson_i * kHz)\n",
    "        #PI.monitor_spike(PI.ids)\n",
    "\n",
    "        # synapses\n",
    "        S_PE_E = connect(\n",
    "            PE,\n",
    "            E,\n",
    "            PE.ids,\n",
    "            E.ids,\n",
    "            connect=(\"one2one\", {}),\n",
    "            on_pre=PreEq_AMPA_pois,\n",
    "            delay=delay_AMPA,\n",
    "        )\n",
    "        S_PI_I = connect(\n",
    "            PI,\n",
    "            I,\n",
    "            PI.ids,\n",
    "            I.ids,\n",
    "            connect=(\"one2one\", {}),\n",
    "            on_pre=PreEq_AMPA_pois,\n",
    "            delay=delay_AMPA,\n",
    "        )\n",
    "\n",
    "        exp.run(sim_time * ms)"
   ]
  },
  {
   "cell_type": "code",
   "execution_count": null,
   "metadata": {},
   "outputs": [],
   "source": [
    "\n",
    "from analysis import ExperimentAnalysis\n",
    "from plot import ExperimentPlotter\n",
    "\n",
    "def plot(data_path):\n",
    "    with FileMap(data_path, mode=\"read\") as f:\n",
    "\n",
    "        analyzer = ExperimentAnalysis(experiment_data=f, t_start=100)\n",
    "        analyzer.analyze_instantaneous_rate()\n",
    "        analyzer.analyze_smoothed_rate(window_size=1.0)\n",
    "        analyzer.analyze_power_spectral_density()\n",
    "        analyzer.analyze_power_spectral_density(separate_intervals=True)\n",
    "        analysis = analyzer.report\n",
    "\n",
    "        print(\"Analysis done.\")\n",
    "\n",
    "        plotter = ExperimentPlotter(data=f, analysis=analysis, figsize=(20,10), t_start=100, pop_name_e=\"E\", pop_name_i=\"I\")\n",
    "\n",
    "        plotter.plot_spike_train()\n",
    "        plotter.plot_voltages()\n",
    "        plotter.plot_instantaneous_rate(pop_name=[\"E\", \"I\"])\n",
    "        plotter.plot_smoothed_rate(pop_name=[\"E\"])\n",
    "        plotter.plot_smoothed_rate(pop_name=[\"I\"])\n",
    "\n",
    "        plotter.draw()\n",
    "\n",
    "        plotter.show()\n",
    "\n",
    "\n",
    "        plotter = ExperimentPlotter(data=f, analysis=analysis, figsize=(20,10), sharex=True, t_start=100, pop_name_e=\"E\", pop_name_i=\"I\")\n",
    "        plotter.plot_power_spectrum(pop_name=\"E\")\n",
    "        plotter.plot_power_spectrum(pop_name=\"I\", is_i=True)\n",
    "\n",
    "        plotter.draw()\n",
    "        plotter.show()\n",
    "\n",
    "\n",
    "\n",
    "        plotter = ExperimentPlotter(data=f, analysis=analysis, figsize=(20,10), sharex=True, t_start=100, pop_name_e=\"E\", pop_name_i=\"I\")\n",
    "        plotter.plot_power_spectogram_over_time(pop_name=\"E\")\n",
    "        plotter.plot_power_spectogram_over_time(pop_name=\"I\")\n",
    "        plotter.draw()\n",
    "        plotter.show()"
   ]
  },
  {
   "cell_type": "markdown",
   "metadata": {},
   "source": [
    "## oscillatory dynamics for varying homogeneous poisson input to E and I population"
   ]
  },
  {
   "cell_type": "markdown",
   "metadata": {},
   "source": [
    "### parameter combinations in kHz"
   ]
  },
  {
   "cell_type": "code",
   "execution_count": null,
   "metadata": {},
   "outputs": [],
   "source": [
    "rates_e = np.linspace(5.0,7.0,5)\n",
    "rates_i = np.linspace(6.0,9.0,5)\n",
    "parameters = list(zip(rates_e, rates_i[::-1]))\n",
    "print(parameters)"
   ]
  },
  {
   "cell_type": "markdown",
   "metadata": {},
   "source": [
    "Data of parameter combination (6.5, 6.75) produce plots close to Figs 3.1, 3.2 "
   ]
  },
  {
   "cell_type": "code",
   "execution_count": null,
   "metadata": {},
   "outputs": [],
   "source": [
    "sim_time = 500  \n",
    "for rpe, rpi in parameters:\n",
    "    path = os.path.join(base_path, f\"exp_osc_rpe_{str(rpe).replace('.', '_')}_rpi_{str(rpi).replace('.', '_')}.h5\")\n",
    "    if os.path.isfile(path):\n",
    "        print(\"Skipping rpe: {rpe}, rpi: {rpi} - file already exists - delete it if you want to overwrite\")\n",
    "        continue\n",
    "    print(f\"Running rpe: {rpe}, rpi: {rpi}\"+\"\\n\\n\"+\"=\"*80 +\"\\n\\n\")\n",
    "    run_exp(path=path, sim_time=sim_time, rate_poisson_e=rpe, rate_poisson_i=rpi)\n",
    "    print(\"\\n\\n\" +\"=\"*80)\n"
   ]
  },
  {
   "cell_type": "markdown",
   "metadata": {},
   "source": [
    "### plots"
   ]
  },
  {
   "cell_type": "code",
   "execution_count": null,
   "metadata": {},
   "outputs": [],
   "source": [
    "for rpe, rpi in parameters:\n",
    "    print(os.path.join(base_path, f\"exp_osc_rpe_{str(rpe).replace('.', '_')}_rpi_{str(rpi).replace('.', '_')}.h5\"))"
   ]
  },
  {
   "cell_type": "markdown",
   "metadata": {},
   "source": [
    "### simulations"
   ]
  },
  {
   "cell_type": "code",
   "execution_count": null,
   "metadata": {},
   "outputs": [],
   "source": [
    "plot(\"../data/exp_osc_rpe_5_0_rpi_9_0.h5\")"
   ]
  },
  {
   "cell_type": "code",
   "execution_count": null,
   "metadata": {},
   "outputs": [],
   "source": [
    "plot(\"../data/exp_osc_rpe_5_5_rpi_8_25.h5\")"
   ]
  },
  {
   "cell_type": "code",
   "execution_count": null,
   "metadata": {},
   "outputs": [],
   "source": [
    "plot(\"../data/exp_osc_rpe_6_0_rpi_7_5.h5\")"
   ]
  },
  {
   "cell_type": "code",
   "execution_count": null,
   "metadata": {},
   "outputs": [],
   "source": [
    "# simiar to Fig 3.2\n",
    "plot(\"../data/exp_osc_rpe_6_5_rpi_6_75.h5\")"
   ]
  },
  {
   "cell_type": "code",
   "execution_count": null,
   "metadata": {},
   "outputs": [],
   "source": [
    "plot(\"../data/exp_osc_rpe_7_0_rpi_6_0.h5\")"
   ]
  }
 ],
 "metadata": {
  "interpreter": {
   "hash": "ebe64fecbd0eef7c033eaaa744c03b8773bb4ec3a008ba4e6ceb9264c2f535b6"
  },
  "kernelspec": {
   "display_name": "Python (attractor)",
   "language": "python",
   "name": "python3"
  },
  "language_info": {
   "codemirror_mode": {
    "name": "ipython",
    "version": 3
   },
   "file_extension": ".py",
   "mimetype": "text/x-python",
   "name": "python",
   "nbconvert_exporter": "python",
   "pygments_lexer": "ipython3",
   "version": "3.8.10"
  }
 },
 "nbformat": 4,
 "nbformat_minor": 4
}
